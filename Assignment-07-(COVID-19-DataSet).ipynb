{
 "cells": [
  {
   "cell_type": "markdown",
   "id": "d54ca7b5-0348-4c6e-8bd5-6b6be30bf154",
   "metadata": {},
   "source": [
    "# Tasks for Data Visualization"
   ]
  },
  {
   "cell_type": "markdown",
   "id": "8236e20b-7f2a-4d68-ae11-6aac7bb60049",
   "metadata": {},
   "source": [
    "## (1) Load and Display Data → Read the dataset and print the first 5 rows"
   ]
  },
  {
   "cell_type": "code",
   "execution_count": 1,
   "id": "a9fa1917-80d5-4ec2-998d-e38ed45c385e",
   "metadata": {},
   "outputs": [],
   "source": [
    "import pandas as pd"
   ]
  },
  {
   "cell_type": "code",
   "execution_count": 2,
   "id": "d6bca682-d38a-4a0b-9c59-01e47c3929a0",
   "metadata": {},
   "outputs": [],
   "source": [
    "data = pd.read_csv(\"covid_19_country_wise_latest.csv\")"
   ]
  },
  {
   "cell_type": "code",
   "execution_count": 3,
   "id": "307ad8bb-275a-497a-a6b4-4f5ee07200f1",
   "metadata": {},
   "outputs": [
    {
     "data": {
      "text/html": [
       "<div>\n",
       "<style scoped>\n",
       "    .dataframe tbody tr th:only-of-type {\n",
       "        vertical-align: middle;\n",
       "    }\n",
       "\n",
       "    .dataframe tbody tr th {\n",
       "        vertical-align: top;\n",
       "    }\n",
       "\n",
       "    .dataframe thead th {\n",
       "        text-align: right;\n",
       "    }\n",
       "</style>\n",
       "<table border=\"1\" class=\"dataframe\">\n",
       "  <thead>\n",
       "    <tr style=\"text-align: right;\">\n",
       "      <th></th>\n",
       "      <th>Unnamed: 0</th>\n",
       "      <th>Country/Region</th>\n",
       "      <th>Confirmed</th>\n",
       "      <th>Deaths</th>\n",
       "      <th>Recovered</th>\n",
       "      <th>Active</th>\n",
       "      <th>New cases</th>\n",
       "      <th>New deaths</th>\n",
       "      <th>New recovered</th>\n",
       "      <th>Deaths / 100 Cases</th>\n",
       "      <th>Recovered / 100 Cases</th>\n",
       "      <th>Deaths / 100 Recovered</th>\n",
       "      <th>Confirmed last week</th>\n",
       "      <th>1 week change</th>\n",
       "      <th>1 week % increase</th>\n",
       "      <th>WHO Region</th>\n",
       "    </tr>\n",
       "  </thead>\n",
       "  <tbody>\n",
       "    <tr>\n",
       "      <th>0</th>\n",
       "      <td>0</td>\n",
       "      <td>Afghanistan</td>\n",
       "      <td>36263</td>\n",
       "      <td>1269</td>\n",
       "      <td>25198</td>\n",
       "      <td>9796</td>\n",
       "      <td>106.0</td>\n",
       "      <td>10.0</td>\n",
       "      <td>18</td>\n",
       "      <td>3.50</td>\n",
       "      <td>69.49</td>\n",
       "      <td>5.04</td>\n",
       "      <td>35526</td>\n",
       "      <td>737</td>\n",
       "      <td>2.07</td>\n",
       "      <td>Eastern Mediterranean</td>\n",
       "    </tr>\n",
       "    <tr>\n",
       "      <th>1</th>\n",
       "      <td>1</td>\n",
       "      <td>Albania</td>\n",
       "      <td>4880</td>\n",
       "      <td>144</td>\n",
       "      <td>2745</td>\n",
       "      <td>1991</td>\n",
       "      <td>117.0</td>\n",
       "      <td>6.0</td>\n",
       "      <td>63</td>\n",
       "      <td>2.95</td>\n",
       "      <td>56.25</td>\n",
       "      <td>5.25</td>\n",
       "      <td>4171</td>\n",
       "      <td>709</td>\n",
       "      <td>17.00</td>\n",
       "      <td>Europe</td>\n",
       "    </tr>\n",
       "    <tr>\n",
       "      <th>2</th>\n",
       "      <td>2</td>\n",
       "      <td>Algeria</td>\n",
       "      <td>27973</td>\n",
       "      <td>1163</td>\n",
       "      <td>18837</td>\n",
       "      <td>7973</td>\n",
       "      <td>616.0</td>\n",
       "      <td>8.0</td>\n",
       "      <td>749</td>\n",
       "      <td>4.16</td>\n",
       "      <td>67.34</td>\n",
       "      <td>6.17</td>\n",
       "      <td>23691</td>\n",
       "      <td>4282</td>\n",
       "      <td>18.07</td>\n",
       "      <td>Africa</td>\n",
       "    </tr>\n",
       "    <tr>\n",
       "      <th>3</th>\n",
       "      <td>3</td>\n",
       "      <td>Andorra</td>\n",
       "      <td>907</td>\n",
       "      <td>52</td>\n",
       "      <td>803</td>\n",
       "      <td>52</td>\n",
       "      <td>10.0</td>\n",
       "      <td>0.0</td>\n",
       "      <td>0</td>\n",
       "      <td>5.73</td>\n",
       "      <td>88.53</td>\n",
       "      <td>6.48</td>\n",
       "      <td>884</td>\n",
       "      <td>23</td>\n",
       "      <td>2.60</td>\n",
       "      <td>Europe</td>\n",
       "    </tr>\n",
       "    <tr>\n",
       "      <th>4</th>\n",
       "      <td>4</td>\n",
       "      <td>Angola</td>\n",
       "      <td>950</td>\n",
       "      <td>41</td>\n",
       "      <td>242</td>\n",
       "      <td>667</td>\n",
       "      <td>18.0</td>\n",
       "      <td>1.0</td>\n",
       "      <td>0</td>\n",
       "      <td>4.32</td>\n",
       "      <td>25.47</td>\n",
       "      <td>16.94</td>\n",
       "      <td>749</td>\n",
       "      <td>201</td>\n",
       "      <td>26.84</td>\n",
       "      <td>Africa</td>\n",
       "    </tr>\n",
       "  </tbody>\n",
       "</table>\n",
       "</div>"
      ],
      "text/plain": [
       "   Unnamed: 0 Country/Region  Confirmed Deaths  Recovered  Active  New cases  \\\n",
       "0           0    Afghanistan      36263   1269      25198    9796      106.0   \n",
       "1           1        Albania       4880    144       2745    1991      117.0   \n",
       "2           2        Algeria      27973   1163      18837    7973      616.0   \n",
       "3           3        Andorra        907     52        803      52       10.0   \n",
       "4           4         Angola        950     41        242     667       18.0   \n",
       "\n",
       "   New deaths  New recovered  Deaths / 100 Cases  Recovered / 100 Cases  \\\n",
       "0        10.0             18                3.50                  69.49   \n",
       "1         6.0             63                2.95                  56.25   \n",
       "2         8.0            749                4.16                  67.34   \n",
       "3         0.0              0                5.73                  88.53   \n",
       "4         1.0              0                4.32                  25.47   \n",
       "\n",
       "   Deaths / 100 Recovered  Confirmed last week  1 week change  \\\n",
       "0                    5.04                35526            737   \n",
       "1                    5.25                 4171            709   \n",
       "2                    6.17                23691           4282   \n",
       "3                    6.48                  884             23   \n",
       "4                   16.94                  749            201   \n",
       "\n",
       "   1 week % increase             WHO Region  \n",
       "0               2.07  Eastern Mediterranean  \n",
       "1              17.00                 Europe  \n",
       "2              18.07                 Africa  \n",
       "3               2.60                 Europe  \n",
       "4              26.84                 Africa  "
      ]
     },
     "execution_count": 3,
     "metadata": {},
     "output_type": "execute_result"
    }
   ],
   "source": [
    "data.head(5)"
   ]
  },
  {
   "cell_type": "markdown",
   "id": "4db8a1da-f1bd-4740-ac54-8b4766f2c1e8",
   "metadata": {},
   "source": [
    "## (2) Set the Dataset index is Unnamed: 0"
   ]
  },
  {
   "cell_type": "code",
   "execution_count": 4,
   "id": "f4bf87a9-b144-400d-8c38-6c2e4432d21e",
   "metadata": {},
   "outputs": [],
   "source": [
    "data.set_index(\"Unnamed: 0\", inplace=True)"
   ]
  },
  {
   "cell_type": "code",
   "execution_count": 5,
   "id": "3b7f031d-6889-4744-88ff-d886e13227a7",
   "metadata": {},
   "outputs": [
    {
     "data": {
      "text/html": [
       "<div>\n",
       "<style scoped>\n",
       "    .dataframe tbody tr th:only-of-type {\n",
       "        vertical-align: middle;\n",
       "    }\n",
       "\n",
       "    .dataframe tbody tr th {\n",
       "        vertical-align: top;\n",
       "    }\n",
       "\n",
       "    .dataframe thead th {\n",
       "        text-align: right;\n",
       "    }\n",
       "</style>\n",
       "<table border=\"1\" class=\"dataframe\">\n",
       "  <thead>\n",
       "    <tr style=\"text-align: right;\">\n",
       "      <th></th>\n",
       "      <th>Country/Region</th>\n",
       "      <th>Confirmed</th>\n",
       "      <th>Deaths</th>\n",
       "      <th>Recovered</th>\n",
       "      <th>Active</th>\n",
       "      <th>New cases</th>\n",
       "      <th>New deaths</th>\n",
       "      <th>New recovered</th>\n",
       "      <th>Deaths / 100 Cases</th>\n",
       "      <th>Recovered / 100 Cases</th>\n",
       "      <th>Deaths / 100 Recovered</th>\n",
       "      <th>Confirmed last week</th>\n",
       "      <th>1 week change</th>\n",
       "      <th>1 week % increase</th>\n",
       "      <th>WHO Region</th>\n",
       "    </tr>\n",
       "    <tr>\n",
       "      <th>Unnamed: 0</th>\n",
       "      <th></th>\n",
       "      <th></th>\n",
       "      <th></th>\n",
       "      <th></th>\n",
       "      <th></th>\n",
       "      <th></th>\n",
       "      <th></th>\n",
       "      <th></th>\n",
       "      <th></th>\n",
       "      <th></th>\n",
       "      <th></th>\n",
       "      <th></th>\n",
       "      <th></th>\n",
       "      <th></th>\n",
       "      <th></th>\n",
       "    </tr>\n",
       "  </thead>\n",
       "  <tbody>\n",
       "    <tr>\n",
       "      <th>0</th>\n",
       "      <td>Afghanistan</td>\n",
       "      <td>36263</td>\n",
       "      <td>1269</td>\n",
       "      <td>25198</td>\n",
       "      <td>9796</td>\n",
       "      <td>106.0</td>\n",
       "      <td>10.0</td>\n",
       "      <td>18</td>\n",
       "      <td>3.50</td>\n",
       "      <td>69.49</td>\n",
       "      <td>5.04</td>\n",
       "      <td>35526</td>\n",
       "      <td>737</td>\n",
       "      <td>2.07</td>\n",
       "      <td>Eastern Mediterranean</td>\n",
       "    </tr>\n",
       "    <tr>\n",
       "      <th>1</th>\n",
       "      <td>Albania</td>\n",
       "      <td>4880</td>\n",
       "      <td>144</td>\n",
       "      <td>2745</td>\n",
       "      <td>1991</td>\n",
       "      <td>117.0</td>\n",
       "      <td>6.0</td>\n",
       "      <td>63</td>\n",
       "      <td>2.95</td>\n",
       "      <td>56.25</td>\n",
       "      <td>5.25</td>\n",
       "      <td>4171</td>\n",
       "      <td>709</td>\n",
       "      <td>17.00</td>\n",
       "      <td>Europe</td>\n",
       "    </tr>\n",
       "    <tr>\n",
       "      <th>2</th>\n",
       "      <td>Algeria</td>\n",
       "      <td>27973</td>\n",
       "      <td>1163</td>\n",
       "      <td>18837</td>\n",
       "      <td>7973</td>\n",
       "      <td>616.0</td>\n",
       "      <td>8.0</td>\n",
       "      <td>749</td>\n",
       "      <td>4.16</td>\n",
       "      <td>67.34</td>\n",
       "      <td>6.17</td>\n",
       "      <td>23691</td>\n",
       "      <td>4282</td>\n",
       "      <td>18.07</td>\n",
       "      <td>Africa</td>\n",
       "    </tr>\n",
       "    <tr>\n",
       "      <th>3</th>\n",
       "      <td>Andorra</td>\n",
       "      <td>907</td>\n",
       "      <td>52</td>\n",
       "      <td>803</td>\n",
       "      <td>52</td>\n",
       "      <td>10.0</td>\n",
       "      <td>0.0</td>\n",
       "      <td>0</td>\n",
       "      <td>5.73</td>\n",
       "      <td>88.53</td>\n",
       "      <td>6.48</td>\n",
       "      <td>884</td>\n",
       "      <td>23</td>\n",
       "      <td>2.60</td>\n",
       "      <td>Europe</td>\n",
       "    </tr>\n",
       "    <tr>\n",
       "      <th>4</th>\n",
       "      <td>Angola</td>\n",
       "      <td>950</td>\n",
       "      <td>41</td>\n",
       "      <td>242</td>\n",
       "      <td>667</td>\n",
       "      <td>18.0</td>\n",
       "      <td>1.0</td>\n",
       "      <td>0</td>\n",
       "      <td>4.32</td>\n",
       "      <td>25.47</td>\n",
       "      <td>16.94</td>\n",
       "      <td>749</td>\n",
       "      <td>201</td>\n",
       "      <td>26.84</td>\n",
       "      <td>Africa</td>\n",
       "    </tr>\n",
       "  </tbody>\n",
       "</table>\n",
       "</div>"
      ],
      "text/plain": [
       "           Country/Region  Confirmed Deaths  Recovered  Active  New cases  \\\n",
       "Unnamed: 0                                                                  \n",
       "0             Afghanistan      36263   1269      25198    9796      106.0   \n",
       "1                 Albania       4880    144       2745    1991      117.0   \n",
       "2                 Algeria      27973   1163      18837    7973      616.0   \n",
       "3                 Andorra        907     52        803      52       10.0   \n",
       "4                  Angola        950     41        242     667       18.0   \n",
       "\n",
       "            New deaths  New recovered  Deaths / 100 Cases  \\\n",
       "Unnamed: 0                                                  \n",
       "0                 10.0             18                3.50   \n",
       "1                  6.0             63                2.95   \n",
       "2                  8.0            749                4.16   \n",
       "3                  0.0              0                5.73   \n",
       "4                  1.0              0                4.32   \n",
       "\n",
       "            Recovered / 100 Cases  Deaths / 100 Recovered  \\\n",
       "Unnamed: 0                                                  \n",
       "0                           69.49                    5.04   \n",
       "1                           56.25                    5.25   \n",
       "2                           67.34                    6.17   \n",
       "3                           88.53                    6.48   \n",
       "4                           25.47                   16.94   \n",
       "\n",
       "            Confirmed last week  1 week change  1 week % increase  \\\n",
       "Unnamed: 0                                                          \n",
       "0                         35526            737               2.07   \n",
       "1                          4171            709              17.00   \n",
       "2                         23691           4282              18.07   \n",
       "3                           884             23               2.60   \n",
       "4                           749            201              26.84   \n",
       "\n",
       "                       WHO Region  \n",
       "Unnamed: 0                         \n",
       "0           Eastern Mediterranean  \n",
       "1                          Europe  \n",
       "2                          Africa  \n",
       "3                          Europe  \n",
       "4                          Africa  "
      ]
     },
     "execution_count": 5,
     "metadata": {},
     "output_type": "execute_result"
    }
   ],
   "source": [
    "data.head(5)"
   ]
  },
  {
   "cell_type": "markdown",
   "id": "31266520-82ca-424a-af0e-66ab57841c5e",
   "metadata": {},
   "source": [
    "## (3) Now replace the index column Unnamed: 0 name with index"
   ]
  },
  {
   "cell_type": "code",
   "execution_count": 6,
   "id": "3306d944-bc26-4817-ad4c-1f252dbfeb74",
   "metadata": {},
   "outputs": [],
   "source": [
    "data.rename_axis(\"Index\",inplace=True)"
   ]
  },
  {
   "cell_type": "code",
   "execution_count": 7,
   "id": "270c2534-42c4-46fb-ae25-52909c0eda7e",
   "metadata": {},
   "outputs": [
    {
     "data": {
      "text/html": [
       "<div>\n",
       "<style scoped>\n",
       "    .dataframe tbody tr th:only-of-type {\n",
       "        vertical-align: middle;\n",
       "    }\n",
       "\n",
       "    .dataframe tbody tr th {\n",
       "        vertical-align: top;\n",
       "    }\n",
       "\n",
       "    .dataframe thead th {\n",
       "        text-align: right;\n",
       "    }\n",
       "</style>\n",
       "<table border=\"1\" class=\"dataframe\">\n",
       "  <thead>\n",
       "    <tr style=\"text-align: right;\">\n",
       "      <th></th>\n",
       "      <th>Country/Region</th>\n",
       "      <th>Confirmed</th>\n",
       "      <th>Deaths</th>\n",
       "      <th>Recovered</th>\n",
       "      <th>Active</th>\n",
       "      <th>New cases</th>\n",
       "      <th>New deaths</th>\n",
       "      <th>New recovered</th>\n",
       "      <th>Deaths / 100 Cases</th>\n",
       "      <th>Recovered / 100 Cases</th>\n",
       "      <th>Deaths / 100 Recovered</th>\n",
       "      <th>Confirmed last week</th>\n",
       "      <th>1 week change</th>\n",
       "      <th>1 week % increase</th>\n",
       "      <th>WHO Region</th>\n",
       "    </tr>\n",
       "    <tr>\n",
       "      <th>Index</th>\n",
       "      <th></th>\n",
       "      <th></th>\n",
       "      <th></th>\n",
       "      <th></th>\n",
       "      <th></th>\n",
       "      <th></th>\n",
       "      <th></th>\n",
       "      <th></th>\n",
       "      <th></th>\n",
       "      <th></th>\n",
       "      <th></th>\n",
       "      <th></th>\n",
       "      <th></th>\n",
       "      <th></th>\n",
       "      <th></th>\n",
       "    </tr>\n",
       "  </thead>\n",
       "  <tbody>\n",
       "    <tr>\n",
       "      <th>0</th>\n",
       "      <td>Afghanistan</td>\n",
       "      <td>36263</td>\n",
       "      <td>1269</td>\n",
       "      <td>25198</td>\n",
       "      <td>9796</td>\n",
       "      <td>106.0</td>\n",
       "      <td>10.0</td>\n",
       "      <td>18</td>\n",
       "      <td>3.50</td>\n",
       "      <td>69.49</td>\n",
       "      <td>5.04</td>\n",
       "      <td>35526</td>\n",
       "      <td>737</td>\n",
       "      <td>2.07</td>\n",
       "      <td>Eastern Mediterranean</td>\n",
       "    </tr>\n",
       "    <tr>\n",
       "      <th>1</th>\n",
       "      <td>Albania</td>\n",
       "      <td>4880</td>\n",
       "      <td>144</td>\n",
       "      <td>2745</td>\n",
       "      <td>1991</td>\n",
       "      <td>117.0</td>\n",
       "      <td>6.0</td>\n",
       "      <td>63</td>\n",
       "      <td>2.95</td>\n",
       "      <td>56.25</td>\n",
       "      <td>5.25</td>\n",
       "      <td>4171</td>\n",
       "      <td>709</td>\n",
       "      <td>17.00</td>\n",
       "      <td>Europe</td>\n",
       "    </tr>\n",
       "    <tr>\n",
       "      <th>2</th>\n",
       "      <td>Algeria</td>\n",
       "      <td>27973</td>\n",
       "      <td>1163</td>\n",
       "      <td>18837</td>\n",
       "      <td>7973</td>\n",
       "      <td>616.0</td>\n",
       "      <td>8.0</td>\n",
       "      <td>749</td>\n",
       "      <td>4.16</td>\n",
       "      <td>67.34</td>\n",
       "      <td>6.17</td>\n",
       "      <td>23691</td>\n",
       "      <td>4282</td>\n",
       "      <td>18.07</td>\n",
       "      <td>Africa</td>\n",
       "    </tr>\n",
       "    <tr>\n",
       "      <th>3</th>\n",
       "      <td>Andorra</td>\n",
       "      <td>907</td>\n",
       "      <td>52</td>\n",
       "      <td>803</td>\n",
       "      <td>52</td>\n",
       "      <td>10.0</td>\n",
       "      <td>0.0</td>\n",
       "      <td>0</td>\n",
       "      <td>5.73</td>\n",
       "      <td>88.53</td>\n",
       "      <td>6.48</td>\n",
       "      <td>884</td>\n",
       "      <td>23</td>\n",
       "      <td>2.60</td>\n",
       "      <td>Europe</td>\n",
       "    </tr>\n",
       "    <tr>\n",
       "      <th>4</th>\n",
       "      <td>Angola</td>\n",
       "      <td>950</td>\n",
       "      <td>41</td>\n",
       "      <td>242</td>\n",
       "      <td>667</td>\n",
       "      <td>18.0</td>\n",
       "      <td>1.0</td>\n",
       "      <td>0</td>\n",
       "      <td>4.32</td>\n",
       "      <td>25.47</td>\n",
       "      <td>16.94</td>\n",
       "      <td>749</td>\n",
       "      <td>201</td>\n",
       "      <td>26.84</td>\n",
       "      <td>Africa</td>\n",
       "    </tr>\n",
       "  </tbody>\n",
       "</table>\n",
       "</div>"
      ],
      "text/plain": [
       "      Country/Region  Confirmed Deaths  Recovered  Active  New cases  \\\n",
       "Index                                                                  \n",
       "0        Afghanistan      36263   1269      25198    9796      106.0   \n",
       "1            Albania       4880    144       2745    1991      117.0   \n",
       "2            Algeria      27973   1163      18837    7973      616.0   \n",
       "3            Andorra        907     52        803      52       10.0   \n",
       "4             Angola        950     41        242     667       18.0   \n",
       "\n",
       "       New deaths  New recovered  Deaths / 100 Cases  Recovered / 100 Cases  \\\n",
       "Index                                                                         \n",
       "0            10.0             18                3.50                  69.49   \n",
       "1             6.0             63                2.95                  56.25   \n",
       "2             8.0            749                4.16                  67.34   \n",
       "3             0.0              0                5.73                  88.53   \n",
       "4             1.0              0                4.32                  25.47   \n",
       "\n",
       "       Deaths / 100 Recovered  Confirmed last week  1 week change  \\\n",
       "Index                                                               \n",
       "0                        5.04                35526            737   \n",
       "1                        5.25                 4171            709   \n",
       "2                        6.17                23691           4282   \n",
       "3                        6.48                  884             23   \n",
       "4                       16.94                  749            201   \n",
       "\n",
       "       1 week % increase             WHO Region  \n",
       "Index                                            \n",
       "0                   2.07  Eastern Mediterranean  \n",
       "1                  17.00                 Europe  \n",
       "2                  18.07                 Africa  \n",
       "3                   2.60                 Europe  \n",
       "4                  26.84                 Africa  "
      ]
     },
     "execution_count": 7,
     "metadata": {},
     "output_type": "execute_result"
    }
   ],
   "source": [
    "data.head(5)"
   ]
  },
  {
   "cell_type": "markdown",
   "id": "549cc233-2224-403c-ba09-a7e8d353ca62",
   "metadata": {},
   "source": [
    "## (4) Create Function that take dataset columns and replace whitespace with Underscore and update dataset automatically and the pass the dataset."
   ]
  },
  {
   "cell_type": "code",
   "execution_count": 8,
   "id": "8f39003c-f90b-40af-81fe-5d7f55a6bad0",
   "metadata": {},
   "outputs": [],
   "source": [
    "def replace_whitespace_with_underscore(data):\n",
    "    data.columns = data.columns.str.replace(' ', '_', regex=False)\n",
    "    return data\n",
    "\n",
    "data = replace_whitespace_with_underscore(data)"
   ]
  },
  {
   "cell_type": "code",
   "execution_count": 9,
   "id": "f7552f2c-a628-4b56-8a25-b9b22de8c2ab",
   "metadata": {},
   "outputs": [
    {
     "data": {
      "text/html": [
       "<div>\n",
       "<style scoped>\n",
       "    .dataframe tbody tr th:only-of-type {\n",
       "        vertical-align: middle;\n",
       "    }\n",
       "\n",
       "    .dataframe tbody tr th {\n",
       "        vertical-align: top;\n",
       "    }\n",
       "\n",
       "    .dataframe thead th {\n",
       "        text-align: right;\n",
       "    }\n",
       "</style>\n",
       "<table border=\"1\" class=\"dataframe\">\n",
       "  <thead>\n",
       "    <tr style=\"text-align: right;\">\n",
       "      <th></th>\n",
       "      <th>Country/Region</th>\n",
       "      <th>Confirmed</th>\n",
       "      <th>Deaths</th>\n",
       "      <th>Recovered</th>\n",
       "      <th>Active</th>\n",
       "      <th>New_cases</th>\n",
       "      <th>New_deaths</th>\n",
       "      <th>New_recovered</th>\n",
       "      <th>Deaths_/_100_Cases</th>\n",
       "      <th>Recovered_/_100_Cases</th>\n",
       "      <th>Deaths_/_100_Recovered</th>\n",
       "      <th>Confirmed_last_week</th>\n",
       "      <th>1_week_change</th>\n",
       "      <th>1_week_%_increase</th>\n",
       "      <th>WHO_Region</th>\n",
       "    </tr>\n",
       "    <tr>\n",
       "      <th>Index</th>\n",
       "      <th></th>\n",
       "      <th></th>\n",
       "      <th></th>\n",
       "      <th></th>\n",
       "      <th></th>\n",
       "      <th></th>\n",
       "      <th></th>\n",
       "      <th></th>\n",
       "      <th></th>\n",
       "      <th></th>\n",
       "      <th></th>\n",
       "      <th></th>\n",
       "      <th></th>\n",
       "      <th></th>\n",
       "      <th></th>\n",
       "    </tr>\n",
       "  </thead>\n",
       "  <tbody>\n",
       "    <tr>\n",
       "      <th>0</th>\n",
       "      <td>Afghanistan</td>\n",
       "      <td>36263</td>\n",
       "      <td>1269</td>\n",
       "      <td>25198</td>\n",
       "      <td>9796</td>\n",
       "      <td>106.0</td>\n",
       "      <td>10.0</td>\n",
       "      <td>18</td>\n",
       "      <td>3.50</td>\n",
       "      <td>69.49</td>\n",
       "      <td>5.04</td>\n",
       "      <td>35526</td>\n",
       "      <td>737</td>\n",
       "      <td>2.07</td>\n",
       "      <td>Eastern Mediterranean</td>\n",
       "    </tr>\n",
       "    <tr>\n",
       "      <th>1</th>\n",
       "      <td>Albania</td>\n",
       "      <td>4880</td>\n",
       "      <td>144</td>\n",
       "      <td>2745</td>\n",
       "      <td>1991</td>\n",
       "      <td>117.0</td>\n",
       "      <td>6.0</td>\n",
       "      <td>63</td>\n",
       "      <td>2.95</td>\n",
       "      <td>56.25</td>\n",
       "      <td>5.25</td>\n",
       "      <td>4171</td>\n",
       "      <td>709</td>\n",
       "      <td>17.00</td>\n",
       "      <td>Europe</td>\n",
       "    </tr>\n",
       "    <tr>\n",
       "      <th>2</th>\n",
       "      <td>Algeria</td>\n",
       "      <td>27973</td>\n",
       "      <td>1163</td>\n",
       "      <td>18837</td>\n",
       "      <td>7973</td>\n",
       "      <td>616.0</td>\n",
       "      <td>8.0</td>\n",
       "      <td>749</td>\n",
       "      <td>4.16</td>\n",
       "      <td>67.34</td>\n",
       "      <td>6.17</td>\n",
       "      <td>23691</td>\n",
       "      <td>4282</td>\n",
       "      <td>18.07</td>\n",
       "      <td>Africa</td>\n",
       "    </tr>\n",
       "    <tr>\n",
       "      <th>3</th>\n",
       "      <td>Andorra</td>\n",
       "      <td>907</td>\n",
       "      <td>52</td>\n",
       "      <td>803</td>\n",
       "      <td>52</td>\n",
       "      <td>10.0</td>\n",
       "      <td>0.0</td>\n",
       "      <td>0</td>\n",
       "      <td>5.73</td>\n",
       "      <td>88.53</td>\n",
       "      <td>6.48</td>\n",
       "      <td>884</td>\n",
       "      <td>23</td>\n",
       "      <td>2.60</td>\n",
       "      <td>Europe</td>\n",
       "    </tr>\n",
       "    <tr>\n",
       "      <th>4</th>\n",
       "      <td>Angola</td>\n",
       "      <td>950</td>\n",
       "      <td>41</td>\n",
       "      <td>242</td>\n",
       "      <td>667</td>\n",
       "      <td>18.0</td>\n",
       "      <td>1.0</td>\n",
       "      <td>0</td>\n",
       "      <td>4.32</td>\n",
       "      <td>25.47</td>\n",
       "      <td>16.94</td>\n",
       "      <td>749</td>\n",
       "      <td>201</td>\n",
       "      <td>26.84</td>\n",
       "      <td>Africa</td>\n",
       "    </tr>\n",
       "  </tbody>\n",
       "</table>\n",
       "</div>"
      ],
      "text/plain": [
       "      Country/Region  Confirmed Deaths  Recovered  Active  New_cases  \\\n",
       "Index                                                                  \n",
       "0        Afghanistan      36263   1269      25198    9796      106.0   \n",
       "1            Albania       4880    144       2745    1991      117.0   \n",
       "2            Algeria      27973   1163      18837    7973      616.0   \n",
       "3            Andorra        907     52        803      52       10.0   \n",
       "4             Angola        950     41        242     667       18.0   \n",
       "\n",
       "       New_deaths  New_recovered  Deaths_/_100_Cases  Recovered_/_100_Cases  \\\n",
       "Index                                                                         \n",
       "0            10.0             18                3.50                  69.49   \n",
       "1             6.0             63                2.95                  56.25   \n",
       "2             8.0            749                4.16                  67.34   \n",
       "3             0.0              0                5.73                  88.53   \n",
       "4             1.0              0                4.32                  25.47   \n",
       "\n",
       "       Deaths_/_100_Recovered  Confirmed_last_week  1_week_change  \\\n",
       "Index                                                               \n",
       "0                        5.04                35526            737   \n",
       "1                        5.25                 4171            709   \n",
       "2                        6.17                23691           4282   \n",
       "3                        6.48                  884             23   \n",
       "4                       16.94                  749            201   \n",
       "\n",
       "       1_week_%_increase             WHO_Region  \n",
       "Index                                            \n",
       "0                   2.07  Eastern Mediterranean  \n",
       "1                  17.00                 Europe  \n",
       "2                  18.07                 Africa  \n",
       "3                   2.60                 Europe  \n",
       "4                  26.84                 Africa  "
      ]
     },
     "execution_count": 9,
     "metadata": {},
     "output_type": "execute_result"
    }
   ],
   "source": [
    "data.head()"
   ]
  },
  {
   "cell_type": "markdown",
   "id": "4065f2d0-a53c-44e7-84c8-a65b018cb049",
   "metadata": {},
   "source": [
    "## (5) Check Basic Information → Find column names, data types, and missing values"
   ]
  },
  {
   "cell_type": "code",
   "execution_count": 10,
   "id": "f2190d3d-8d46-4ba7-97f9-b405b8040d5c",
   "metadata": {},
   "outputs": [
    {
     "data": {
      "text/plain": [
       "Index(['Country/Region', 'Confirmed', 'Deaths', 'Recovered', 'Active',\n",
       "       'New_cases', 'New_deaths', 'New_recovered', 'Deaths_/_100_Cases',\n",
       "       'Recovered_/_100_Cases', 'Deaths_/_100_Recovered',\n",
       "       'Confirmed_last_week', '1_week_change', '1_week_%_increase',\n",
       "       'WHO_Region'],\n",
       "      dtype='object')"
      ]
     },
     "execution_count": 10,
     "metadata": {},
     "output_type": "execute_result"
    }
   ],
   "source": [
    "data.columns"
   ]
  },
  {
   "cell_type": "code",
   "execution_count": 11,
   "id": "6827a439-df58-4ef5-9b26-5c408e44d9f7",
   "metadata": {},
   "outputs": [
    {
     "data": {
      "text/plain": [
       "Country/Region             object\n",
       "Confirmed                   int64\n",
       "Deaths                     object\n",
       "Recovered                   int64\n",
       "Active                      int64\n",
       "New_cases                 float64\n",
       "New_deaths                float64\n",
       "New_recovered               int64\n",
       "Deaths_/_100_Cases        float64\n",
       "Recovered_/_100_Cases     float64\n",
       "Deaths_/_100_Recovered    float64\n",
       "Confirmed_last_week         int64\n",
       "1_week_change               int64\n",
       "1_week_%_increase         float64\n",
       "WHO_Region                 object\n",
       "dtype: object"
      ]
     },
     "execution_count": 11,
     "metadata": {},
     "output_type": "execute_result"
    }
   ],
   "source": [
    "data.dtypes"
   ]
  },
  {
   "cell_type": "code",
   "execution_count": 23,
   "id": "6f072e44-aeb7-4f6a-9d7d-aa292f8e3783",
   "metadata": {},
   "outputs": [
    {
     "data": {
      "text/plain": [
       "Country/Region             0\n",
       "Confirmed                  0\n",
       "Deaths                     0\n",
       "Recovered                  0\n",
       "Active                     0\n",
       "New_cases                 10\n",
       "New_deaths                10\n",
       "New_recovered              0\n",
       "Deaths_/_100_Cases         0\n",
       "Recovered_/_100_Cases      0\n",
       "Deaths_/_100_Recovered     0\n",
       "Confirmed_last_week        0\n",
       "1_week_change              0\n",
       "1_week_%_increase          0\n",
       "WHO_Region                 0\n",
       "dtype: int64"
      ]
     },
     "execution_count": 23,
     "metadata": {},
     "output_type": "execute_result"
    }
   ],
   "source": [
    "data.isnull().sum()"
   ]
  },
  {
   "cell_type": "markdown",
   "id": "6cc8c5c8-b477-4431-b434-287e4a2650f7",
   "metadata": {},
   "source": [
    "## (6) fill the nan values with the mean of the column"
   ]
  },
  {
   "cell_type": "code",
   "execution_count": 25,
   "id": "e2319c9e-8010-4b69-9e90-9e7c9ba927bf",
   "metadata": {},
   "outputs": [],
   "source": [
    "data[['New_cases', 'New_deaths']] = data[['New_cases', 'New_deaths']].fillna(data[['New_cases', 'New_deaths']].mean())"
   ]
  },
  {
   "cell_type": "code",
   "execution_count": 26,
   "id": "5908c475-5d50-4a86-93eb-28bfb092febc",
   "metadata": {},
   "outputs": [
    {
     "data": {
      "text/plain": [
       "Country/Region            0\n",
       "Confirmed                 0\n",
       "Deaths                    0\n",
       "Recovered                 0\n",
       "Active                    0\n",
       "New_cases                 0\n",
       "New_deaths                0\n",
       "New_recovered             0\n",
       "Deaths_/_100_Cases        0\n",
       "Recovered_/_100_Cases     0\n",
       "Deaths_/_100_Recovered    0\n",
       "Confirmed_last_week       0\n",
       "1_week_change             0\n",
       "1_week_%_increase         0\n",
       "WHO_Region                0\n",
       "dtype: int64"
      ]
     },
     "execution_count": 26,
     "metadata": {},
     "output_type": "execute_result"
    }
   ],
   "source": [
    "data.isnull().sum()"
   ]
  },
  {
   "cell_type": "markdown",
   "id": "c8ea2fd6-9aad-4270-9480-589054d73d34",
   "metadata": {},
   "source": [
    "## (7) Count the number of unique countries in the dataset"
   ]
  },
  {
   "cell_type": "code",
   "execution_count": 30,
   "id": "141b5044-c0df-4544-9fe1-387c4c87d20d",
   "metadata": {},
   "outputs": [
    {
     "data": {
      "text/plain": [
       "187"
      ]
     },
     "execution_count": 30,
     "metadata": {},
     "output_type": "execute_result"
    }
   ],
   "source": [
    "Unique_Countries = data[\"Country/Region\"].nunique()\n",
    "Unique_Countries"
   ]
  },
  {
   "cell_type": "markdown",
   "id": "da8584a4-3e51-4105-a321-0aef20109bee",
   "metadata": {},
   "source": [
    "## (8) Check if there are any duplicate country entries and remove them if needed."
   ]
  },
  {
   "cell_type": "code",
   "execution_count": 40,
   "id": "622626a0-7585-4f14-b6ee-f43a83cd2c8d",
   "metadata": {},
   "outputs": [
    {
     "data": {
      "text/plain": [
       "np.int64(0)"
      ]
     },
     "execution_count": 40,
     "metadata": {},
     "output_type": "execute_result"
    }
   ],
   "source": [
    "duplicates = data.duplicated().sum()\n",
    "duplicates"
   ]
  },
  {
   "cell_type": "markdown",
   "id": "30151e17-e174-41ca-b2fd-bbe8fa4ac65c",
   "metadata": {},
   "source": [
    "## (9) Find the mean, median, and standard deviation of total cases."
   ]
  },
  {
   "cell_type": "code",
   "execution_count": 53,
   "id": "f420f529-0882-483a-a539-94970b319c58",
   "metadata": {},
   "outputs": [],
   "source": [
    "data['Deaths'] = pd.to_numeric(data['Deaths'], errors='coerce')"
   ]
  },
  {
   "cell_type": "code",
   "execution_count": 55,
   "id": "a8db14dc-9bfc-4bc2-b83f-3994810b7e62",
   "metadata": {},
   "outputs": [],
   "source": [
    "data['Deaths'] = data['Deaths'].astype(int)"
   ]
  },
  {
   "cell_type": "code",
   "execution_count": 56,
   "id": "5fb0f813-2d76-49db-ae33-7cf0cf3392c5",
   "metadata": {},
   "outputs": [],
   "source": [
    "data['Total_cases'] = data['Confirmed'] + data['Deaths'] + data['Recovered'] + data['Active']"
   ]
  },
  {
   "cell_type": "code",
   "execution_count": 58,
   "id": "54fc104f-a84e-4f3a-85f2-d701f7f44a4f",
   "metadata": {},
   "outputs": [],
   "source": [
    "mean_total_cases = data['Total_cases'].mean()\n",
    "median_total_cases = data['Total_cases'].median()\n",
    "std_total_cases = data['Total_cases'].std()"
   ]
  },
  {
   "cell_type": "code",
   "execution_count": 59,
   "id": "b8b21c3a-1388-4a2e-9c56-47da633e8872",
   "metadata": {},
   "outputs": [
    {
     "data": {
      "text/plain": [
       "np.float64(176261.67914438504)"
      ]
     },
     "execution_count": 59,
     "metadata": {},
     "output_type": "execute_result"
    }
   ],
   "source": [
    "mean_total_cases"
   ]
  },
  {
   "cell_type": "code",
   "execution_count": 60,
   "id": "bebda81f-f424-41d2-803f-914366370d34",
   "metadata": {},
   "outputs": [
    {
     "data": {
      "text/plain": [
       "np.float64(10118.0)"
      ]
     },
     "execution_count": 60,
     "metadata": {},
     "output_type": "execute_result"
    }
   ],
   "source": [
    "median_total_cases"
   ]
  },
  {
   "cell_type": "code",
   "execution_count": 61,
   "id": "0e22fe4e-4428-4bca-bb4c-67c08eccedf1",
   "metadata": {},
   "outputs": [
    {
     "data": {
      "text/plain": [
       "np.float64(766637.370800215)"
      ]
     },
     "execution_count": 61,
     "metadata": {},
     "output_type": "execute_result"
    }
   ],
   "source": [
    "std_total_cases"
   ]
  },
  {
   "cell_type": "markdown",
   "id": "29258691-5c4a-4b33-98b8-ee6a51509984",
   "metadata": {},
   "source": [
    "## (10) Find out the string in Deaths Column and replace it with the mean of Deaths column."
   ]
  },
  {
   "cell_type": "code",
   "execution_count": 75,
   "id": "4fcad65b-5fc0-4d12-bff4-6ed11d1a0b0a",
   "metadata": {},
   "outputs": [],
   "source": [
    "data['Deaths'] = pd.to_numeric(data['Deaths'], errors='coerce')\n",
    "\n",
    "# Calculate the mean of the 'Deaths' column (ignoring NaN values)\n",
    "mean_deaths = data['Deaths'].mean()\n",
    "\n",
    "# Replace NaN values in 'Deaths' with the calculated mean\n",
    "data['Deaths'] = data['Deaths'].fillna(mean_deaths)"
   ]
  },
  {
   "cell_type": "markdown",
   "id": "5be8dc6b-d02d-4788-8eb8-53e4d9b0da1c",
   "metadata": {},
   "source": [
    "## (11) Change the datatype of column Deaths"
   ]
  },
  {
   "cell_type": "code",
   "execution_count": 76,
   "id": "1e6276bb-ca60-447c-beda-e22b09107acd",
   "metadata": {},
   "outputs": [],
   "source": [
    "data['Deaths'] = data['Deaths'].astype(int)"
   ]
  },
  {
   "cell_type": "markdown",
   "id": "71fa1b84-4f37-4a5f-b278-608c14319f14",
   "metadata": {},
   "source": [
    "## (12) Calculate total number of Death and Recovery all over the world"
   ]
  },
  {
   "cell_type": "code",
   "execution_count": 79,
   "id": "74555325-c52b-4e0e-a6b4-f5863ba9859a",
   "metadata": {},
   "outputs": [
    {
     "name": "stdout",
     "output_type": "stream",
     "text": [
      "Total Deaths Worldwide: 654000\n",
      "Total Recoveries Worldwide: 9468087\n"
     ]
    }
   ],
   "source": [
    "# Calculate the total number of deaths globally\n",
    "total_deaths = data['Deaths'].sum()\n",
    "\n",
    "# Calculate the total number of recoveries globally\n",
    "total_recoveries = data['Recovered'].sum()\n",
    "\n",
    "# Display the results\n",
    "print(f\"Total Deaths Worldwide: {total_deaths}\")\n",
    "print(f\"Total Recoveries Worldwide: {total_recoveries}\")"
   ]
  },
  {
   "cell_type": "markdown",
   "id": "acf29940-cd42-42b1-9585-673786266412",
   "metadata": {},
   "source": [
    "## (13) How many countries have more than 1 million total cases"
   ]
  },
  {
   "cell_type": "code",
   "execution_count": 80,
   "id": "a8c0b604-253a-403c-ad01-d58bce444e64",
   "metadata": {},
   "outputs": [
    {
     "name": "stdout",
     "output_type": "stream",
     "text": [
      "Number of countries with more than 1 million confirmed cases: 3\n"
     ]
    }
   ],
   "source": [
    "# Filter the countries with more than 1 million confirmed cases\n",
    "countries_over_1_million = data[data['Confirmed'] > 1000000]\n",
    "\n",
    "# Count how many countries have more than 1 million confirmed cases\n",
    "num_countries_over_1_million = countries_over_1_million.shape[0]\n",
    "\n",
    "# Display the result\n",
    "print(f\"Number of countries with more than 1 million confirmed cases: {num_countries_over_1_million}\")"
   ]
  },
  {
   "cell_type": "markdown",
   "id": "7548940d-3cc1-447d-9179-4e1f53ee9eb1",
   "metadata": {},
   "source": [
    "## (14) Which countries have a recovery rate (Recovered / Total Cases) above 95%"
   ]
  },
  {
   "cell_type": "code",
   "execution_count": 81,
   "id": "14be1e8e-1d2f-444c-b1ad-8812f03be7f1",
   "metadata": {},
   "outputs": [
    {
     "name": "stdout",
     "output_type": "stream",
     "text": [
      "Countries with a recovery rate above 95%:\n",
      "      Country/Region  Recovery_Rate\n",
      "Index                              \n",
      "24            Brunei      97.872340\n",
      "48          Djibouti      98.379126\n",
      "49          Dominica     100.000000\n",
      "69           Grenada     100.000000\n",
      "75          Holy See     100.000000\n",
      "78           Iceland      98.327940\n",
      "105         Malaysia      96.597035\n",
      "110        Mauritius      96.511628\n",
      "121      New Zealand      97.238279\n",
      "126           Norway      95.838809\n",
      "136            Qatar      97.017254\n",
      "164          Taiwan*      95.238095\n"
     ]
    }
   ],
   "source": [
    "# Calculate the recovery rate for each country\n",
    "data['Recovery_Rate'] = (data['Recovered'] / data['Confirmed']) * 100\n",
    "\n",
    "# Filter the countries with a recovery rate above 95%\n",
    "countries_above_95_recovery = data[data['Recovery_Rate'] > 95]\n",
    "\n",
    "# Display the countries with a recovery rate above 95%\n",
    "print(\"Countries with a recovery rate above 95%:\")\n",
    "print(countries_above_95_recovery[['Country/Region', 'Recovery_Rate']])\n"
   ]
  },
  {
   "cell_type": "markdown",
   "id": "ef1e7bc2-e2cb-44d7-85be-6d18cb6c2d48",
   "metadata": {},
   "source": [
    "## (15) Drop columns name WHO Region and Confirmed"
   ]
  },
  {
   "cell_type": "code",
   "execution_count": 82,
   "id": "83b6554c-9cff-4b31-986d-c94b4ca32073",
   "metadata": {},
   "outputs": [
    {
     "name": "stdout",
     "output_type": "stream",
     "text": [
      "      Country/Region  Deaths  Recovered  Active  New_cases  New_deaths  \\\n",
      "Index                                                                    \n",
      "0        Afghanistan    1269      25198    9796      106.0        10.0   \n",
      "1            Albania     144       2745    1991      117.0         6.0   \n",
      "2            Algeria    1163      18837    7973      616.0         8.0   \n",
      "3            Andorra      52        803      52       10.0         0.0   \n",
      "4             Angola      41        242     667       18.0         1.0   \n",
      "\n",
      "       New_recovered  Deaths_/_100_Cases  Recovered_/_100_Cases  \\\n",
      "Index                                                             \n",
      "0                 18                3.50                  69.49   \n",
      "1                 63                2.95                  56.25   \n",
      "2                749                4.16                  67.34   \n",
      "3                  0                5.73                  88.53   \n",
      "4                  0                4.32                  25.47   \n",
      "\n",
      "       Deaths_/_100_Recovered  Confirmed_last_week  1_week_change  \\\n",
      "Index                                                               \n",
      "0                        5.04                35526            737   \n",
      "1                        5.25                 4171            709   \n",
      "2                        6.17                23691           4282   \n",
      "3                        6.48                  884             23   \n",
      "4                       16.94                  749            201   \n",
      "\n",
      "       1_week_%_increase  Total_cases  Recovery_Rate  \n",
      "Index                                                 \n",
      "0                   2.07        72526      69.486805  \n",
      "1                  17.00         9760      56.250000  \n",
      "2                  18.07        55946      67.339935  \n",
      "3                   2.60         1814      88.533627  \n",
      "4                  26.84         1900      25.473684  \n"
     ]
    }
   ],
   "source": [
    "# Drop the 'WHO Region' and 'Confirmed' columns\n",
    "data.drop(columns=['WHO_Region', 'Confirmed'], inplace=True)\n",
    "\n",
    "# Display the first few rows of the modified DataFrame to verify\n",
    "print(data.head())"
   ]
  },
  {
   "cell_type": "markdown",
   "id": "01643f8c-790e-4653-a277-c6714d9796bc",
   "metadata": {},
   "source": [
    "## (16) Find the Country with the Max Deaths"
   ]
  },
  {
   "cell_type": "code",
   "execution_count": 83,
   "id": "dcb6c754-640a-4230-baf6-6b461984a657",
   "metadata": {},
   "outputs": [
    {
     "name": "stdout",
     "output_type": "stream",
     "text": [
      "Country with the maximum deaths: US\n",
      "Number of deaths: 148011\n"
     ]
    }
   ],
   "source": [
    "# Find the country with the maximum number of deaths\n",
    "country_with_max_deaths = data.loc[data['Deaths'].idxmax()]\n",
    "\n",
    "# Display the country and the number of deaths\n",
    "print(f\"Country with the maximum deaths: {country_with_max_deaths['Country/Region']}\")\n",
    "print(f\"Number of deaths: {country_with_max_deaths['Deaths']}\")"
   ]
  },
  {
   "cell_type": "markdown",
   "id": "5fea72bb-b35c-41c8-aa7a-8b50e88531d5",
   "metadata": {},
   "source": [
    "## (17) Sort Countries by Deaths (Descending Order)"
   ]
  },
  {
   "cell_type": "code",
   "execution_count": 84,
   "id": "c823f017-b33c-47a4-b4ed-5c3ff08ca147",
   "metadata": {},
   "outputs": [
    {
     "name": "stdout",
     "output_type": "stream",
     "text": [
      "       Country/Region  Deaths\n",
      "Index                        \n",
      "173                US  148011\n",
      "23             Brazil   87618\n",
      "177    United Kingdom   45844\n",
      "111            Mexico   44022\n",
      "85              Italy   35112\n",
      "...               ...     ...\n",
      "68          Greenland       0\n",
      "59               Fiji       0\n",
      "55            Eritrea       0\n",
      "49           Dominica       0\n",
      "186          Zimbabwe       0\n",
      "\n",
      "[187 rows x 2 columns]\n"
     ]
    }
   ],
   "source": [
    "# Sort the countries by 'Deaths' in descending order\n",
    "sorted_data = data.sort_values(by='Deaths', ascending=False)\n",
    "\n",
    "# Display the sorted data\n",
    "print(sorted_data[['Country/Region', 'Deaths']])"
   ]
  },
  {
   "cell_type": "markdown",
   "id": "6ab5f0a9-4cd7-4794-9eb7-3b18166c4028",
   "metadata": {},
   "source": [
    "## (18) Make new column name Total_cases that have a sum of Deaths, Recovered , Active"
   ]
  },
  {
   "cell_type": "code",
   "execution_count": 86,
   "id": "a2928536-f39c-468a-aae3-0cd1b175eec4",
   "metadata": {},
   "outputs": [
    {
     "name": "stdout",
     "output_type": "stream",
     "text": [
      "      Country/Region  Deaths  Recovered  Active  Total_cases\n",
      "Index                                                       \n",
      "0        Afghanistan    1269      25198    9796        36263\n",
      "1            Albania     144       2745    1991         4880\n",
      "2            Algeria    1163      18837    7973        27973\n",
      "3            Andorra      52        803      52          907\n",
      "4             Angola      41        242     667          950\n"
     ]
    }
   ],
   "source": [
    "# Create a new column 'Total_cases' that is the sum of 'Deaths', 'Recovered', and 'Active'\n",
    "data['Total_cases'] = data['Deaths'] + data['Recovered'] + data['Active']\n",
    "\n",
    "# Display the first few rows to verify\n",
    "print(data[['Country/Region', 'Deaths', 'Recovered', 'Active', 'Total_cases']].head())"
   ]
  },
  {
   "cell_type": "markdown",
   "id": "581f007e-c648-49ce-86a3-ea2c5be08399",
   "metadata": {},
   "source": [
    "## (19) Calculate Death_Rate for Each Country (Deaths per Total Cases) by suing formula (Desths/Total_cases)*100 and save it in Dath_Rate column"
   ]
  },
  {
   "cell_type": "code",
   "execution_count": 87,
   "id": "fd69eb4a-3348-4d29-9182-3165d6b64088",
   "metadata": {},
   "outputs": [
    {
     "name": "stdout",
     "output_type": "stream",
     "text": [
      "      Country/Region  Deaths  Total_cases  Death_Rate\n",
      "Index                                                \n",
      "0        Afghanistan    1269        36263    3.499435\n",
      "1            Albania     144         4880    2.950820\n",
      "2            Algeria    1163        27973    4.157581\n",
      "3            Andorra      52          907    5.733186\n",
      "4             Angola      41          950    4.315789\n"
     ]
    }
   ],
   "source": [
    "# Calculate the Death Rate for each country and save it in the 'Death_Rate' column\n",
    "data['Death_Rate'] = (data['Deaths'] / data['Total_cases']) * 100\n",
    "\n",
    "# Display the first few rows to verify\n",
    "print(data[['Country/Region', 'Deaths', 'Total_cases', 'Death_Rate']].head())"
   ]
  },
  {
   "cell_type": "markdown",
   "id": "54896e3f-fe62-4b73-a404-8519aec250a6",
   "metadata": {},
   "source": [
    "## (20) Identify countries where total cases are increasing but death rates remain low"
   ]
  },
  {
   "cell_type": "code",
   "execution_count": 93,
   "id": "dfd59191-362d-420c-a740-2992a319ac22",
   "metadata": {},
   "outputs": [
    {
     "name": "stdout",
     "output_type": "stream",
     "text": [
      "Column Names in the DataFrame: Index(['Country/Region', 'Deaths', 'Recovered', 'Active', 'New_cases',\n",
      "       'New_deaths', 'New_recovered', 'Deaths_/_100_Cases',\n",
      "       'Recovered_/_100_Cases', 'Deaths_/_100_Recovered',\n",
      "       'Confirmed_last_week', '1_week_change', '1_week_%_increase',\n",
      "       'Total_cases', 'Recovery_Rate', 'Death_Rate'],\n",
      "      dtype='object')\n"
     ]
    },
    {
     "ename": "KeyError",
     "evalue": "'Confirmed'",
     "output_type": "error",
     "traceback": [
      "\u001b[1;31m---------------------------------------------------------------------------\u001b[0m",
      "\u001b[1;31mKeyError\u001b[0m                                  Traceback (most recent call last)",
      "File \u001b[1;32m~\\AppData\\Local\\Programs\\Python\\Python313\\Lib\\site-packages\\pandas\\core\\indexes\\base.py:3805\u001b[0m, in \u001b[0;36mIndex.get_loc\u001b[1;34m(self, key)\u001b[0m\n\u001b[0;32m   3804\u001b[0m \u001b[38;5;28;01mtry\u001b[39;00m:\n\u001b[1;32m-> 3805\u001b[0m     \u001b[38;5;28;01mreturn\u001b[39;00m \u001b[38;5;28;43mself\u001b[39;49m\u001b[38;5;241;43m.\u001b[39;49m\u001b[43m_engine\u001b[49m\u001b[38;5;241;43m.\u001b[39;49m\u001b[43mget_loc\u001b[49m\u001b[43m(\u001b[49m\u001b[43mcasted_key\u001b[49m\u001b[43m)\u001b[49m\n\u001b[0;32m   3806\u001b[0m \u001b[38;5;28;01mexcept\u001b[39;00m \u001b[38;5;167;01mKeyError\u001b[39;00m \u001b[38;5;28;01mas\u001b[39;00m err:\n",
      "File \u001b[1;32mindex.pyx:167\u001b[0m, in \u001b[0;36mpandas._libs.index.IndexEngine.get_loc\u001b[1;34m()\u001b[0m\n",
      "File \u001b[1;32mindex.pyx:196\u001b[0m, in \u001b[0;36mpandas._libs.index.IndexEngine.get_loc\u001b[1;34m()\u001b[0m\n",
      "File \u001b[1;32mpandas\\\\_libs\\\\hashtable_class_helper.pxi:7081\u001b[0m, in \u001b[0;36mpandas._libs.hashtable.PyObjectHashTable.get_item\u001b[1;34m()\u001b[0m\n",
      "File \u001b[1;32mpandas\\\\_libs\\\\hashtable_class_helper.pxi:7089\u001b[0m, in \u001b[0;36mpandas._libs.hashtable.PyObjectHashTable.get_item\u001b[1;34m()\u001b[0m\n",
      "\u001b[1;31mKeyError\u001b[0m: 'Confirmed'",
      "\nThe above exception was the direct cause of the following exception:\n",
      "\u001b[1;31mKeyError\u001b[0m                                  Traceback (most recent call last)",
      "Cell \u001b[1;32mIn[93], line 17\u001b[0m\n\u001b[0;32m     11\u001b[0m death_rate_threshold \u001b[38;5;241m=\u001b[39m \u001b[38;5;241m2\u001b[39m\n\u001b[0;32m     13\u001b[0m \u001b[38;5;66;03m# Ensure 'Confirmed_last_week' and 'Confirmed' are present in the data, otherwise, check your column names\u001b[39;00m\n\u001b[0;32m     14\u001b[0m \u001b[38;5;66;03m# Filter countries where total cases are increasing (Confirmed > Confirmed_last_week) \u001b[39;00m\n\u001b[0;32m     15\u001b[0m \u001b[38;5;66;03m# and death rates are below the threshold (Death_Rate < 2%)\u001b[39;00m\n\u001b[0;32m     16\u001b[0m countries_increasing_cases_low_deaths \u001b[38;5;241m=\u001b[39m data[\n\u001b[1;32m---> 17\u001b[0m     (\u001b[43mdata\u001b[49m\u001b[43m[\u001b[49m\u001b[38;5;124;43m'\u001b[39;49m\u001b[38;5;124;43mConfirmed\u001b[39;49m\u001b[38;5;124;43m'\u001b[39;49m\u001b[43m]\u001b[49m \u001b[38;5;241m>\u001b[39m data[\u001b[38;5;124m'\u001b[39m\u001b[38;5;124mConfirmed_last_week\u001b[39m\u001b[38;5;124m'\u001b[39m]) \u001b[38;5;241m&\u001b[39m (data[\u001b[38;5;124m'\u001b[39m\u001b[38;5;124mDeath_Rate\u001b[39m\u001b[38;5;124m'\u001b[39m] \u001b[38;5;241m<\u001b[39m death_rate_threshold)\n\u001b[0;32m     18\u001b[0m ]\n\u001b[0;32m     20\u001b[0m \u001b[38;5;66;03m# Display the result with relevant columns: Country/Region, Confirmed, Confirmed_last_week, and Death_Rate\u001b[39;00m\n\u001b[0;32m     21\u001b[0m \u001b[38;5;28mprint\u001b[39m(\u001b[38;5;124m\"\u001b[39m\u001b[38;5;124mCountries with increasing cases and low death rates:\u001b[39m\u001b[38;5;124m\"\u001b[39m)\n",
      "File \u001b[1;32m~\\AppData\\Local\\Programs\\Python\\Python313\\Lib\\site-packages\\pandas\\core\\frame.py:4102\u001b[0m, in \u001b[0;36mDataFrame.__getitem__\u001b[1;34m(self, key)\u001b[0m\n\u001b[0;32m   4100\u001b[0m \u001b[38;5;28;01mif\u001b[39;00m \u001b[38;5;28mself\u001b[39m\u001b[38;5;241m.\u001b[39mcolumns\u001b[38;5;241m.\u001b[39mnlevels \u001b[38;5;241m>\u001b[39m \u001b[38;5;241m1\u001b[39m:\n\u001b[0;32m   4101\u001b[0m     \u001b[38;5;28;01mreturn\u001b[39;00m \u001b[38;5;28mself\u001b[39m\u001b[38;5;241m.\u001b[39m_getitem_multilevel(key)\n\u001b[1;32m-> 4102\u001b[0m indexer \u001b[38;5;241m=\u001b[39m \u001b[38;5;28;43mself\u001b[39;49m\u001b[38;5;241;43m.\u001b[39;49m\u001b[43mcolumns\u001b[49m\u001b[38;5;241;43m.\u001b[39;49m\u001b[43mget_loc\u001b[49m\u001b[43m(\u001b[49m\u001b[43mkey\u001b[49m\u001b[43m)\u001b[49m\n\u001b[0;32m   4103\u001b[0m \u001b[38;5;28;01mif\u001b[39;00m is_integer(indexer):\n\u001b[0;32m   4104\u001b[0m     indexer \u001b[38;5;241m=\u001b[39m [indexer]\n",
      "File \u001b[1;32m~\\AppData\\Local\\Programs\\Python\\Python313\\Lib\\site-packages\\pandas\\core\\indexes\\base.py:3812\u001b[0m, in \u001b[0;36mIndex.get_loc\u001b[1;34m(self, key)\u001b[0m\n\u001b[0;32m   3807\u001b[0m     \u001b[38;5;28;01mif\u001b[39;00m \u001b[38;5;28misinstance\u001b[39m(casted_key, \u001b[38;5;28mslice\u001b[39m) \u001b[38;5;129;01mor\u001b[39;00m (\n\u001b[0;32m   3808\u001b[0m         \u001b[38;5;28misinstance\u001b[39m(casted_key, abc\u001b[38;5;241m.\u001b[39mIterable)\n\u001b[0;32m   3809\u001b[0m         \u001b[38;5;129;01mand\u001b[39;00m \u001b[38;5;28many\u001b[39m(\u001b[38;5;28misinstance\u001b[39m(x, \u001b[38;5;28mslice\u001b[39m) \u001b[38;5;28;01mfor\u001b[39;00m x \u001b[38;5;129;01min\u001b[39;00m casted_key)\n\u001b[0;32m   3810\u001b[0m     ):\n\u001b[0;32m   3811\u001b[0m         \u001b[38;5;28;01mraise\u001b[39;00m InvalidIndexError(key)\n\u001b[1;32m-> 3812\u001b[0m     \u001b[38;5;28;01mraise\u001b[39;00m \u001b[38;5;167;01mKeyError\u001b[39;00m(key) \u001b[38;5;28;01mfrom\u001b[39;00m\u001b[38;5;250m \u001b[39m\u001b[38;5;21;01merr\u001b[39;00m\n\u001b[0;32m   3813\u001b[0m \u001b[38;5;28;01mexcept\u001b[39;00m \u001b[38;5;167;01mTypeError\u001b[39;00m:\n\u001b[0;32m   3814\u001b[0m     \u001b[38;5;66;03m# If we have a listlike key, _check_indexing_error will raise\u001b[39;00m\n\u001b[0;32m   3815\u001b[0m     \u001b[38;5;66;03m#  InvalidIndexError. Otherwise we fall through and re-raise\u001b[39;00m\n\u001b[0;32m   3816\u001b[0m     \u001b[38;5;66;03m#  the TypeError.\u001b[39;00m\n\u001b[0;32m   3817\u001b[0m     \u001b[38;5;28mself\u001b[39m\u001b[38;5;241m.\u001b[39m_check_indexing_error(key)\n",
      "\u001b[1;31mKeyError\u001b[0m: 'Confirmed'"
     ]
    }
   ],
   "source": [
    "import pandas as pd\n",
    "\n",
    "# Assuming your DataFrame is named 'data'\n",
    "# Strip any leading/trailing spaces from column names to avoid issues\n",
    "data.columns = data.columns.str.strip()\n",
    "\n",
    "# Print column names to confirm that they're correct\n",
    "print(\"Column Names in the DataFrame:\", data.columns)\n",
    "\n",
    "# Define a threshold for low death rate, for example, 2%\n",
    "death_rate_threshold = 2\n",
    "\n",
    "# Ensure 'Confirmed_last_week' and 'Confirmed' are present in the data, otherwise, check your column names\n",
    "# Filter countries where total cases are increasing (Confirmed > Confirmed_last_week) \n",
    "# and death rates are below the threshold (Death_Rate < 2%)\n",
    "countries_increasing_cases_low_deaths = data[\n",
    "    (data['Confirmed'] > data['Confirmed_last_week']) & (data['Death_Rate'] < death_rate_threshold)\n",
    "]\n",
    "\n",
    "# Display the result with relevant columns: Country/Region, Confirmed, Confirmed_last_week, and Death_Rate\n",
    "print(\"Countries with increasing cases and low death rates:\")\n",
    "print(countries_increasing_cases_low_deaths[['Country/Region', 'Confirmed', 'Confirmed_last_week', 'Death_Rate']])\n"
   ]
  },
  {
   "cell_type": "markdown",
   "id": "95845cb9-082b-46f1-8cf5-a86d5324dca0",
   "metadata": {},
   "source": [
    "## (21) print head of only 2 columns Country/Region and Death_Rate"
   ]
  },
  {
   "cell_type": "code",
   "execution_count": 94,
   "id": "b947c2a9-7bc9-473e-87cd-3e7065750847",
   "metadata": {},
   "outputs": [
    {
     "name": "stdout",
     "output_type": "stream",
     "text": [
      "      Country/Region  Death_Rate\n",
      "Index                           \n",
      "0        Afghanistan    3.499435\n",
      "1            Albania    2.950820\n",
      "2            Algeria    4.157581\n",
      "3            Andorra    5.733186\n",
      "4             Angola    4.315789\n"
     ]
    }
   ],
   "source": [
    "# Print the first few rows of only the 'Country/Region' and 'Death_Rate' columns\n",
    "print(data[['Country/Region', 'Death_Rate']].head())\n"
   ]
  },
  {
   "cell_type": "code",
   "execution_count": null,
   "id": "41a8f02e-32e6-4fff-8a92-384bb8046a22",
   "metadata": {},
   "outputs": [],
   "source": [
    "(22) "
   ]
  },
  {
   "cell_type": "code",
   "execution_count": 96,
   "id": "40623699-b86d-4a50-badd-c9e2cef2ea48",
   "metadata": {},
   "outputs": [
    {
     "data": {
      "image/png": "[encoded data removed]",
      "text/plain": [
       "<Figure size 800x600 with 1 Axes>"
      ]
     },
     "metadata": {},
     "output_type": "display_data"
    }
   ],
   "source": [
    "import pandas as pd\n",
    "import matplotlib.pyplot as plt\n",
    "\n",
    "# Sample DataFrame (replace with your actual data)\n",
    "data = {\n",
    "    'Country/Region': ['USA', 'Canada', 'Mexico', 'USA', 'Canada'],\n",
    "    'Confirmed': [1000, 1500, 2000, 1800, 1200],\n",
    "    'Deaths': [50, 40, 30, 45, 35]\n",
    "}\n",
    "\n",
    "df = pd.DataFrame(data)\n",
    "\n",
    "# Step 1: Ensure that 'Confirmed' and 'Deaths' columns are numeric\n",
    "df['Confirmed'] = pd.to_numeric(df['Confirmed'], errors='coerce')\n",
    "df['Deaths'] = pd.to_numeric(df['Deaths'], errors='coerce')\n",
    "\n",
    "# Step 2: Create the scatter plot\n",
    "plt.figure(figsize=(8, 6))\n",
    "plt.scatter(df['Confirmed'], df['Deaths'], color='blue', alpha=0.7)\n",
    "\n",
    "# Step 3: Add titles and labels\n",
    "plt.title('Scatter Plot: Total Cases vs Total Deaths', fontsize=14)\n",
    "plt.xlabel('Total Confirmed Cases', fontsize=12)\n",
    "plt.ylabel('Total Deaths', fontsize=12)\n",
    "\n",
    "# Step 4: Display the plot\n",
    "plt.show()"
   ]
  },
  {
   "cell_type": "markdown",
   "id": "8c260615-fc19-474c-afa3-7f33b2af59d5",
   "metadata": {},
   "source": [
    "## (23) Save dataset in CSV format."
   ]
  },
  {
   "cell_type": "code",
   "execution_count": 97,
   "id": "9747c57e-fbaf-404a-ae82-c2becd8367bb",
   "metadata": {},
   "outputs": [
    {
     "name": "stdout",
     "output_type": "stream",
     "text": [
      "Dataset saved as 'dataset.csv'.\n"
     ]
    }
   ],
   "source": [
    "df = pd.DataFrame(data)\n",
    "\n",
    "# Step 1: Save the DataFrame to a CSV file\n",
    "df.to_csv('dataset.csv', index=False)\n",
    "\n",
    "# This will save the CSV file in the current working directory with the name 'dataset.csv'\n",
    "print(\"Dataset saved as 'dataset.csv'.\")"
   ]
  },
  {
   "cell_type": "code",
   "execution_count": null,
   "id": "0e855782-dad5-487c-9402-da9acc32ff7f",
   "metadata": {},
   "outputs": [],
   "source": []
  }
 ],
 "metadata": {
  "kernelspec": {
   "display_name": "Python 3 (ipykernel)",
   "language": "python",
   "name": "python3"
  },
  "language_info": {
   "codemirror_mode": {
    "name": "ipython",
    "version": 3
   },
   "file_extension": ".py",
   "mimetype": "text/x-python",
   "name": "python",
   "nbconvert_exporter": "python",
   "pygments_lexer": "ipython3",
   "version": "3.13.2"
  }
 },
 "nbformat": 4,
 "nbformat_minor": 5
}
